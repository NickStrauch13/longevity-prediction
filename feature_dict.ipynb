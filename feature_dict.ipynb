{
 "cells": [
  {
   "cell_type": "code",
   "execution_count": null,
   "metadata": {},
   "outputs": [],
   "source": [
    "data_dict = {}\n",
    "\n",
    "# Iterate through each row in the DataFrame\n",
    "for index, row in final_clean.iterrows():\n",
    "    # Use the country name as the key for the main dictionary\n",
    "    country = row['Country Name']\n",
    "    \n",
    "    # Prepare the features list of dictionaries\n",
    "    features_list = [{col: row[col]} for col in final_clean.columns if col not in ['Country Name', 'Life expectancy ']]\n",
    "    \n",
    "    # Prepare the sub-dictionary for this country\n",
    "    country_dict = {\n",
    "        'features': features_list,\n",
    "        'life_expectancy': row['Life expectancy ']\n",
    "    }\n",
    "    \n",
    "    # Add the sub-dictionary to the main dictionary\n",
    "    data_dict[country] = country_dict\n",
    "\n",
    "for key in list(data_dict)[:5]:  # Change the number to control how many items to print\n",
    "    print(f\"{key}: {data_dict[key]}\\n\")"
   ]
  }
 ],
 "metadata": {
  "language_info": {
   "name": "python"
  }
 },
 "nbformat": 4,
 "nbformat_minor": 2
}
