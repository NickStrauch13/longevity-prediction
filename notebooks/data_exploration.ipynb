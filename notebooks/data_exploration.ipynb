{
 "cells": [
  {
   "cell_type": "code",
   "execution_count": 19,
   "metadata": {},
   "outputs": [],
   "source": [
    "#install pyown\n",
    "import requests\n",
    "import pandas as pd\n",
    "import numpy as np\n",
    "import matplotlib.pyplot as plt"
   ]
  },
  {
   "cell_type": "code",
   "execution_count": 34,
   "metadata": {},
   "outputs": [],
   "source": [
    "# Scrping data from hofstedes website\n",
    "import requests\n",
    "from bs4 import BeautifulSoup\n",
    "import pandas as pd\n",
    "import numpy as np\n",
    "\n",
    "url = 'https://www.hofstede-insights.com/country-comparison-tool'\n",
    "\n",
    "r = requests.get(url)\n",
    "soup = BeautifulSoup(r.text, 'html.parser')\n",
    "# find the class: \"l-comparison__content__item-multiple__top\"\n",
    "table = soup.find('div', attrs={'class': 'l-comparison__content__item-multiple__top'})\n",
    "# loop through all classes c-overview fadeInUp\n",
    "culture_dict = {}\n",
    "for row in table.findAll('div', attrs={'class': 'c-overview fadeInUp'}):\n",
    "    # save country name as key and score as value\n",
    "    country_scores = []\n",
    "    # save country name within data-country in dictionary as key\n",
    "    country = row['data-country']\n",
    "    # power-distance score in span class\n",
    "    power_distance = row.find('span', attrs={'class': 'power-distance fadeIn active'}).text\n",
    "    individualism = row.find('span', attrs={'class': 'individualism fadeIn'}).text\n",
    "    motivation = row.find('span', attrs={'class': 'motivation fadeIn'}).text\n",
    "    uncertainty_avoidance = row.find('span', attrs={'class': 'uncertainty-avoidance fadeIn'}).text\n",
    "    long_term_orientation = row.find('span', attrs={'class': 'long-term-orientation fadeIn'}).text\n",
    "    indulgence = row.find('span', attrs={'class': 'indulgence fadeIn'}).text\n",
    "\n",
    "    # save country name as key and score as value\n",
    "    country_scores.append(power_distance)\n",
    "    country_scores.append(individualism)\n",
    "    country_scores.append(motivation)\n",
    "    country_scores.append(uncertainty_avoidance)\n",
    "    country_scores.append(long_term_orientation)\n",
    "    country_scores.append(indulgence)\n",
    "    if country not in culture_dict:\n",
    "        culture_dict[country] = country_scores\n",
    "    \n",
    "# create dataframe from dictionary\n",
    "culture_df = pd.DataFrame.from_dict(culture_dict, orient='index', columns=['power_distance', 'individualism', 'motivation', 'uncertainty_avoidance', 'long_term_orientation', 'indulgence'])\n",
    "culture_df.head()\n",
    "\n",
    "# save dataframe to csv in the data cleaned folder\n",
    "culture_df.to_csv('../data/cleaned/culture_df.csv')\n",
    "\n",
    "\n",
    "\n"
   ]
  }
 ],
 "metadata": {
  "kernelspec": {
   "display_name": "Python 3",
   "language": "python",
   "name": "python3"
  },
  "language_info": {
   "codemirror_mode": {
    "name": "ipython",
    "version": 3
   },
   "file_extension": ".py",
   "mimetype": "text/x-python",
   "name": "python",
   "nbconvert_exporter": "python",
   "pygments_lexer": "ipython3",
   "version": "3.9.6"
  }
 },
 "nbformat": 4,
 "nbformat_minor": 2
}
